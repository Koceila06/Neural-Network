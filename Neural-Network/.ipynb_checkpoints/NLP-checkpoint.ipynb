{
 "cells": [
  {
   "cell_type": "markdown",
   "id": "00e3bb64",
   "metadata": {},
   "source": [
    "# Import"
   ]
  },
  {
   "cell_type": "code",
   "execution_count": 1,
   "id": "1b2ac519",
   "metadata": {},
   "outputs": [],
   "source": [
    "from utils import *\n",
    "from modules import *\n",
    "import numpy as np \n",
    "import pandas as pd\n",
    "from PIL import Image\n",
    "import os\n",
    "import re\n",
    "from os import listdir\n",
    "from sklearn.cluster import KMeans\n",
    "from sklearn.manifold import TSNE\n",
    "from sklearn.metrics import rand_score,adjusted_rand_score\n",
    "from sklearn.decomposition import PCA\n",
    "from tqdm import tqdm\n",
    "from sklearn.linear_model import LogisticRegression\n",
    "from sklearn.metrics import accuracy_score\n",
    "from time import time\n",
    "import codecs\n",
    "import pickle as pkl\n",
    "import logging\n",
    "import gensim\n",
    "\n",
    "\n",
    "from sklearn.neural_network import MLPClassifier\n",
    "\n",
    "import warnings\n",
    "warnings.filterwarnings(\"ignore\")"
   ]
  },
  {
   "cell_type": "code",
   "execution_count": 2,
   "id": "dbed6292",
   "metadata": {},
   "outputs": [
    {
     "name": "stdout",
     "output_type": "stream",
     "text": [
      "Number of train reviews :  25000\n",
      "----> # of positive :  12500\n",
      "----> # of negative :  12500\n",
      "\n",
      "[\"The undoubted highlight of this movie is Peter O'Toole's performance. In turn wildly comical and terribly terribly tragic. Does anybody do it better than O'Toole? I don't think so. What a great face that man has!<br /><br />The story is an odd one and quite disturbing and emotionally intense in parts (especially toward the end) but it is also oddly touching and does succeed on many levels. However, I felt the film basically revolved around Peter O'Toole's luminous performance and I'm sure I wouldn't have enjoyed it even half as much if he hadn't been in it.\", 1]\n",
      "\n",
      "Number of test reviews :  25000\n",
      "----> # of positive :  12500\n",
      "----> # of negative :  12500\n",
      "\n",
      "['Although credit should have been given to Dr. Seuess for stealing the story-line of \"Horton Hatches The Egg\", this was a fine film. It touched both the emotions and the intellect. Due especially to the incredible performance of seven year old Justin Henry and a script that was sympathetic to each character (and each one\\'s predicament), the thought provoking elements linger long after the tear jerking ones are over. Overall, superior acting from a solid cast, excellent directing, and a very powerful script. The right touches of humor throughout help keep a \"heavy\" subject from becoming tedious or difficult to sit through. Lastly, this film stands the test of time and seems in no way dated, decades after it was released.', 1]\n",
      "\n"
     ]
    }
   ],
   "source": [
    "import json\n",
    "from collections import Counter\n",
    "\n",
    "# Loading json\n",
    "with open(\"json_pol\",encoding=\"utf-8\") as f:\n",
    "    data = f.readlines()\n",
    "    json_data = json.loads(data[0])\n",
    "    train = json_data[\"train\"]\n",
    "    test = json_data[\"test\"]\n",
    "    \n",
    "\n",
    "# Quick Check\n",
    "counter_train = Counter((x[1] for x in train))\n",
    "counter_test = Counter((x[1] for x in test))\n",
    "print(\"Number of train reviews : \", len(train))\n",
    "print(\"----> # of positive : \", counter_train[1])\n",
    "print(\"----> # of negative : \", counter_train[0])\n",
    "print(\"\")\n",
    "print(train[0])\n",
    "print(\"\")\n",
    "print(\"Number of test reviews : \",len(test))\n",
    "print(\"----> # of positive : \", counter_test[1])\n",
    "print(\"----> # of negative : \", counter_test[0])\n",
    "\n",
    "print(\"\")\n",
    "print(test[0])\n",
    "print(\"\")"
   ]
  },
  {
   "cell_type": "code",
   "execution_count": 3,
   "id": "32474cf7",
   "metadata": {},
   "outputs": [],
   "source": [
    "w2v = gensim.models.Word2Vec.load(\"w2v_reviews.dat\")"
   ]
  },
  {
   "cell_type": "code",
   "execution_count": 4,
   "id": "96a09401",
   "metadata": {},
   "outputs": [],
   "source": [
    "\n",
    "def vectorize(text,model,mean=False,minFeat=False,maxFeat=False):\n",
    "    '''\n",
    "    This function should vectorize one review\n",
    "\n",
    "    input: str\n",
    "    output: np.array(float)\n",
    "    '''\n",
    "    vocabulary = model.wv.key_to_index.keys()\n",
    "    \n",
    "    weights = [model.wv.get_vector(word) for word in text if word in vocabulary]\n",
    "    \n",
    "    if mean:\n",
    "        return np.mean(weights,axis=0)\n",
    "    if minFeat:\n",
    "        return np.min(weights,axis=0)\n",
    "    if maxFeat:\n",
    "        return np.max(weights,axis=0)\n",
    "    \n",
    "    return np.sum(weights,axis=0)"
   ]
  },
  {
   "cell_type": "code",
   "execution_count": 5,
   "id": "18e0c882",
   "metadata": {},
   "outputs": [],
   "source": [
    "text_train = np.array([t.split() for t,p in train])\n",
    "labels_train = np.array([p for t,p in train])\n",
    "\n",
    "text_test = np.array([t.split() for t,p in test])\n",
    "labels_test = np.array([p for t,p in test])"
   ]
  },
  {
   "cell_type": "code",
   "execution_count": 6,
   "id": "bb301744",
   "metadata": {},
   "outputs": [],
   "source": [
    "labels_train = labels_train.reshape(-1,1)\n",
    "labels_test = labels_test.reshape(-1,1)"
   ]
  },
  {
   "cell_type": "code",
   "execution_count": 7,
   "id": "6d57c9a4",
   "metadata": {},
   "outputs": [],
   "source": [
    "text_train_vectorized = np.array([vectorize(text,w2v,mean=True) for text in text_train])\n",
    "text_test_vectorized = np.array([vectorize(text,w2v,mean=True) for text in text_test])"
   ]
  },
  {
   "cell_type": "code",
   "execution_count": 10,
   "id": "1018b3e6",
   "metadata": {},
   "outputs": [
    {
     "name": "stderr",
     "output_type": "stream",
     "text": [
      "100%|███████████████████████████████████████████| 50/50 [00:11<00:00,  4.30it/s]\n"
     ]
    },
    {
     "name": "stdout",
     "output_type": "stream",
     "text": [
      "Accuracy sur le train :  0.8226\n",
      "Accuracy sur le train :  0.8166\n"
     ]
    }
   ],
   "source": [
    "np.random.seed(42)\n",
    "nb_classes = len(np.unique(labels_train))\n",
    "n_samples = text_train_vectorized.shape[0]\n",
    "\n",
    "\n",
    "neuro_i_1 = 100\n",
    "neuro_o_1 = 50\n",
    "neuro_i_2 = 50\n",
    "neuro_o_2 = 20\n",
    "neuro_i_3 = 20\n",
    "neuro_o_3 = 1\n",
    "facteur_norma = 0.4\n",
    "plage_biais = (0,1)\n",
    "batch_size = 50\n",
    "epochs = 50\n",
    "\n",
    "\n",
    "facteur_norma = 0.8\n",
    "lineaire_1 = ModuleLineaire(neuro_i_1 ,neuro_o_1 ,plage_biais,facteur_norma)\n",
    "lineaire_2 = ModuleLineaire(neuro_i_2 ,neuro_o_2 ,plage_biais,facteur_norma)\n",
    "lineaire_3 = ModuleLineaire(neuro_i_3 ,neuro_o_3 ,plage_biais,facteur_norma)\n",
    "\n",
    "TanH = ModuleTanH()\n",
    "sigmoide = ModuleSigmoide()\n",
    "mseloss = MSELoss()\n",
    "CE = CrossEntropieLoss(nb_classes)\n",
    "softmax = SoftMax()\n",
    "\n",
    "\n",
    "network_layers = [lineaire_1,TanH,lineaire_2,sigmoide,lineaire_3,sigmoide]\n",
    "network = Sequentiel(network_layers)\n",
    "\n",
    "opti = Optim(network,mseloss,1e-3)\n",
    "opti.SGD(text_train_vectorized,labels_train,batch_size,epochs)\n",
    "#opti.affichage(text_train_vectorized,labels_train)\n",
    "\n",
    "\n",
    "print(\"Accuracy sur le train : \",opti.getNetwork().accuracy(text_train_vectorized,labels_train))\n",
    "print(\"Accuracy sur le test : \",opti.getNetwork().accuracy(text_test_vectorized,labels_test))\n",
    "\n",
    "#net_to_graph(network, net_name=\"networks_images/network_MC_USPS\", horizontal=True)"
   ]
  }
 ],
 "metadata": {
  "kernelspec": {
   "display_name": "Python 3 (ipykernel)",
   "language": "python",
   "name": "python3"
  },
  "language_info": {
   "codemirror_mode": {
    "name": "ipython",
    "version": 3
   },
   "file_extension": ".py",
   "mimetype": "text/x-python",
   "name": "python",
   "nbconvert_exporter": "python",
   "pygments_lexer": "ipython3",
   "version": "3.9.12"
  }
 },
 "nbformat": 4,
 "nbformat_minor": 5
}
